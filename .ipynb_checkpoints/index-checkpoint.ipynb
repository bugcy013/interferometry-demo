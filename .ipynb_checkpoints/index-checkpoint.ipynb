{
 "cells": [
  {
   "cell_type": "markdown",
   "metadata": {},
   "source": [
    "# RUN ME FIRST!\n",
    "\n",
    "These are some standard libraries you need to import before any of these code examples will work:"
   ]
  },
  {
   "cell_type": "code",
   "execution_count": 3,
   "metadata": {
    "collapsed": true
   },
   "outputs": [],
   "source": [
    "%matplotlib inline"
   ]
  },
  {
   "cell_type": "code",
   "execution_count": 4,
   "metadata": {
    "collapsed": false
   },
   "outputs": [
    {
     "name": "stderr",
     "output_type": "stream",
     "text": [
      ":0: FutureWarning: IPython widgets are experimental and may change in the future.\n"
     ]
    }
   ],
   "source": [
    "from IPython.display import Image\n",
    "from IPython.html.widgets import interact\n",
    "from numpy import pi, cos, sin\n",
    "import numpy as np\n",
    "import pylab as plt"
   ]
  },
  {
   "cell_type": "markdown",
   "metadata": {},
   "source": [
    "## Introduction to Interferometery and Synthesis Imaging\n",
    "\n",
    "Sythesis imaging is a method to combine the outputs of multiple radio antennas into a single image, boosting angular resolution and overall sensitivity. It depends upon the outputs of antennas being *interfered* together in pairs, measuring the amplitude and phase of the interfered signal. The output of each interfered pair gives information about the sky, which can be aggregated to form an image of the sky.\n",
    "\n",
    "This notebook gives a quick interactive introduction to radio interferometers and synthesis imaging.\n",
    "\n",
    "### A simple interferometer\n",
    "\n",
    "A radio interferometer computes pair-wise correlations between antennas. For an array of $N_ant$ antennas, the number of possible pairs of antennas is given by\n",
    "\n",
    "$$ N_{pairs} = \\frac{(N_{ant})(N_{ant} - 1)}{2}.$$\n",
    "\n",
    "To give a simple example, imagine an array of three simple isotropic antennas (i.e. uniform sensitivity), arranged in a line with equal spacing $b$ between antennas:\n",
    "\n",
    "<img src=\"interferometer.png\"/>"
   ]
  },
  {
   "cell_type": "markdown",
   "metadata": {},
   "source": [
    "**Fig 1:** Geometry of an elementary three-element interfometer. Three antennas (elements) are arranged in a line with a spacing $b$ between them.\n",
    "\n",
    "If we connect the voltage outputs of the antennas to a device that cross-multiplies pairs of voltage streams $V_aV_b^*$, then we have a simple three-element interferometer, as shown in Fig 1. here, \\* denotes complex conjugation. Such a device is known as a *correlator*.\n",
    "\n",
    "Now, consider a single source at a sufficient distance to that the incident wavefront can be considered a plane wave. For now, let's consider the sources radiation to be given by\n",
    "\n",
    "$$e(t) = sin(2\\pi\\nu t)$$\n",
    "\n",
    "where $\\nu$ represents frequency and $t$ represents time. The radiation will reach the right-hand antenna before the left-hand antenna by a time equal to\n",
    "\n",
    "$$\\tau_g = \\frac{2b sin\\theta}{c},$$\n",
    "\n",
    "where $c$ is the speed of light, and $\\theta$ is the angle of incidence. Given this, the output of the middle cross-multiplier in the diagram is:\n",
    "\n",
    "$$F = sin(2\\pi\\nu t)sin2\\pi\\nu(t - \\tau_g),$$\n",
    "\n",
    "for which time average of which can be shown to be $<F> = cos2\\pi\\nu t_g$. This is known as the *fringe frequency*, and can be considered the fundamental measurement from which interferometric synthesis images are created."
   ]
  },
  {
   "cell_type": "markdown",
   "metadata": {},
   "source": [
    "### Fringe frequency\n",
    "\n",
    "\n",
    "The \"fringe function\" $F$ is given by Eq. 2.2 in your textbook:\n",
    "\n",
    "$$F = cos2\\pi\\nu\\tau_g=cos(\\frac{2\\pi b l}{\\pi})$$\n",
    "\n",
    "Where $l=sin(\\theta)$. Here, $\\theta$ is the \"pointing angle\" of the telescope.\n",
    "\n",
    "As the point source transits across the sky, the value of $\\theta$ changes and the fringe function will respond accordingly:"
   ]
  },
  {
   "cell_type": "code",
   "execution_count": 7,
   "metadata": {
    "collapsed": false
   },
   "outputs": [
    {
     "data": {
      "image/png": "[encoded data removed]",
      "text/plain": [
       "<matplotlib.figure.Figure at 0x7f23a4e3b650>"
      ]
     },
     "metadata": {},
     "output_type": "display_data"
    }
   ],
   "source": [
    "def plot_fringe(bl_length, wavelength):\n",
    "    \"\"\" Plot the fringe function for a baseline (see Fig 1)\n",
    "    \n",
    "    bl_length:      distance between antennas, in m\n",
    "    wavelength:     wavelength, in m\n",
    "    \"\"\"\n",
    "    theta = np.linspace(-np.pi, np.pi, 401)\n",
    "    l = sin(theta)\n",
    "    F = cos(2 * pi * bl_length * l / wavelength)\n",
    "    F2 = cos(2 * pi * 2 * bl_length * l / wavelength)\n",
    "    \n",
    "    plt.plot(l, F, c='#cc0000', label=\"Baseline 1-2\")\n",
    "    plt.plot(l, F2, c='#0000cc', label=\"Baseline 1-3\")\n",
    "    plt.xlabel(\"$sin(\\\\theta)$\")\n",
    "    plt.ylabel(\"Fringe amplitude\")\n",
    "    plt.ylim(-2, 2)\n",
    "    plt.legend()\n",
    "\n",
    "f = interact(plot_fringe, bl_length=(1, 100), wavelength=(1, 100))"
   ]
  },
  {
   "cell_type": "markdown",
   "metadata": {},
   "source": [
    "We see that as baseline increases, the fringe function oscillates more rapidly. \n",
    "\n",
    "### Multiple sources\n",
    "\n",
    "Things get more complicated when there is more than a single point source in the sky. Image that our point source has an companion a distance of $\\theta_{spc}$ away. What would then output of the correlator look like?"
   ]
  },
  {
   "cell_type": "code",
   "execution_count": 8,
   "metadata": {
    "collapsed": false
   },
   "outputs": [
    {
     "data": {
      "image/png": "[encoded data removed]",
      "text/plain": [
       "<matplotlib.figure.Figure at 0x7f23a52c60d0>"
      ]
     },
     "metadata": {},
     "output_type": "display_data"
    }
   ],
   "source": [
    "def plot_fringe(bl_length, wavelength, source_spacing):\n",
    "    \"\"\" Plot the fringe function for a baseline with 2 sources (see Fig 1)\n",
    "    \n",
    "    bl_length:      distance between antennas, in m\n",
    "    wavelength:     wavelength, in m\n",
    "    source_spacing: distance between sources, in degrees\n",
    "    \"\"\"\n",
    "    theta = np.linspace(-np.pi, np.pi, 401)\n",
    "    l = sin(theta)\n",
    "    l_spc = sin(source_spacing / 57.3)\n",
    "    \n",
    "    # first baseline\n",
    "    F_src1_bl1 = cos(2 * pi * bl_length * l / wavelength)\n",
    "    F_src2_bl1 = cos(2 * pi * bl_length * (l - l_spc) / wavelength)\n",
    "    F_bl1 = F_src1_bl1 + F_src2_bl1\n",
    "    \n",
    "    # second baseline\n",
    "    F_src1_bl2 = cos(2 * pi * 2 * bl_length * l / wavelength)\n",
    "    F_src2_bl2 = cos(2 * pi * 2* bl_length * (l - l_spc) / wavelength)\n",
    "    F_bl2 = F_src1_bl2 + F_src2_bl2\n",
    "    \n",
    "    plt.plot(l, F_bl1, c='#cc0000', label=\"Baseline 1-2\")\n",
    "    plt.plot(l, F_bl2, c='#0000cc', label=\"Baseline 1-3\")\n",
    "    plt.xlabel(\"$sin(\\\\theta)$\")\n",
    "    plt.ylabel(\"Fringe amplitude\")\n",
    "    plt.ylim(-2, 2)\n",
    "    plt.legend()\n",
    "\n",
    "f = interact(plot_fringe, bl_length=(1, 100), wavelength=(1, 100), source_spacing=(0, 90))"
   ]
  },
  {
   "cell_type": "markdown",
   "metadata": {},
   "source": [
    "Have a play around with the source spacing and you'll see that some source spacings result in absolutely no response (i.e. fringe amplitude is uniformly zero, no matter what the position $\\theta$ of the first source is).\n",
    "\n",
    "By now I hope you're convinced that the output of the correlator is telling you a lot of information about the composition of the sky. But how do we turn these data into images? To answer that will require a bit more reading of your textbook and a bunch of math. So you'll have to wait until the next notebook!\n",
    "\n",
    "## Concepts to remember\n",
    "\n",
    "* What is a radio interferometer?\n",
    "* What is the formula for computing the number of pairs of antennas in an array?\n",
    "* What is a correlator?\n",
    "* What are fringe frequencies, and how do they depend upon antenna spacing, wavelength, etc?\n",
    "\n",
    "## Things to ponder\n",
    "\n",
    "*NB: This is a good time to copy, paste & hack the examples to make some discoveries*\n",
    "\n",
    "* What happens if you have $N$ equally spaced sources instead of two?"
   ]
  },
  {
   "cell_type": "markdown",
   "metadata": {},
   "source": [
    "## Aside: correlator computations\n",
    "\n",
    "Cross-correlation of every sample at [Nyquist rate](http://www.dspguide.com/ch3/2.htm) for every antenna pair can be very computationally expensive. Pairwise correlation of all antennas is an $O(N^2)$ operation, meaning that as the number of antennas $N$ increases, the number of computations required increases in proportion to $N^2$.\n",
    "\n",
    "More precisely, the number of possible pairs of antennas (counting pairing with themselves) is given by\n",
    "\n",
    "$$ N_{pairs} = \\frac{(N_{ant})(N_{ant} + 1)}{2}.$$\n",
    "\n",
    "The number of computation operations required per second (measured in [FLOP/s](https://en.wikipedia.org/wiki/FLOPS)) also depends upon the bandwidth of the digitized signals. Radio arrays tend to have signal bandwidths $\\Delta\\nu$  in the range 10 MHz - 10 GHz; digitization requires sampling at a rate $2\\Delta\\nu$. \n",
    "\n",
    "The widget below computes the number of FLOP/s a correlator would need for a given bandwidth and number of antennas. A rough estimate of how many graphics processing units (GPUs) would be required if they are used to do the computation is also given, along with how much they'd cost to purchase (you would need host systems for them as well!)"
   ]
  },
  {
   "cell_type": "code",
   "execution_count": 10,
   "metadata": {
    "collapsed": false
   },
   "outputs": [
    {
     "name": "stdout",
     "output_type": "stream",
     "text": [
      "Bandwidth:                     553.3 MHz\n",
      "Number of antennas:            320\n",
      "Number of baselines (dualpol): 205120\n",
      "Correlator computations:       567.464 TFLOP/s\n",
      "Number of GPUs required:       379\n",
      "Cost to purchase:              $94750\n"
     ]
    }
   ],
   "source": [
    "tflops_per_gpu = 1.5     # TFLOP/s achievable on a single GPU, NVIDIA GTX960\n",
    "cost_per_gpu   = 250.0   # Cost per GPU\n",
    "\n",
    "def n_ops(bandwidth, n_ant):\n",
    "    n_pol = 2\n",
    "    n_antpol = n_ant * n_pol\n",
    "    n_baselines = (n_antpol) * (n_antpol + 1) / 2 # Dual-pol + autocorrelations\n",
    "    mult_per_sec = n_baselines * bandwidth \n",
    "    tflops_per_sec = mult_per_sec  * 5 / 1e6\n",
    "    n_gpu = np.ceil(tflops_per_sec / tflops_per_gpu)\n",
    "    \n",
    "    to_print =  \"Bandwidth:                     %s MHz\\n\" % bandwidth\n",
    "    to_print += \"Number of antennas:            %i\\n\" % n_ant\n",
    "    to_print += \"Number of baselines (dualpol): %i\\n\" % n_baselines\n",
    "    to_print += \"Correlator computations:       %2.3f TFLOP/s\\n\" % tflops_per_sec\n",
    "    to_print += \"Number of GPUs required:       %i\\n\" % n_gpu\n",
    "    to_print += \"Cost to purchase:              $%i\" % (n_gpu * cost_per_gpu)\n",
    "    print to_print\n",
    "\n",
    "f = interact(n_ops, bandwidth=(1, 1e3), n_ant=(2, 1024))"
   ]
  },
  {
   "cell_type": "code",
   "execution_count": null,
   "metadata": {
    "collapsed": true
   },
   "outputs": [],
   "source": []
  }
 ],
 "metadata": {
  "kernelspec": {
   "display_name": "Python 2",
   "language": "python",
   "name": "python2"
  },
  "language_info": {
   "codemirror_mode": {
    "name": "ipython",
    "version": 2
   },
   "file_extension": ".py",
   "mimetype": "text/x-python",
   "name": "python",
   "nbconvert_exporter": "python",
   "pygments_lexer": "ipython2",
   "version": "2.7.6"
  }
 },
 "nbformat": 4,
 "nbformat_minor": 0
}
